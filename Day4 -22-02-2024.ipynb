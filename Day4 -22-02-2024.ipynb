{
 "cells": [
  {
   "cell_type": "code",
   "execution_count": 14,
   "id": "a7d95e50",
   "metadata": {},
   "outputs": [
    {
     "name": "stdout",
     "output_type": "stream",
     "text": [
      "the quick brown fox jumps over the lazy dog\n",
      "{'t': 2, 'h': 2, 'e': 3, 'q': 1, 'u': 2, 'i': 1, 'c': 1, 'k': 1, 'b': 1, 'r': 2, 'o': 4, 'w': 1, 'n': 1, 'f': 1, 'x': 1, 'j': 1, 'm': 1, 'p': 1, 's': 1, 'v': 1, 'l': 1, 'a': 1, 'z': 1, 'y': 1, 'd': 1, 'g': 1}\n",
      "pangram\n"
     ]
    }
   ],
   "source": [
    "#Pangram\n",
    "#Approach 1\n",
    "'''\n",
    "s=input()\n",
    "s1=set(s)\n",
    "if len(s1)==27:\n",
    "    print(\"pangram\")\n",
    "else:\n",
    "    print(\"Not panagram\")\n",
    "'''\n",
    "\n",
    "#Approach 2\n",
    "\n",
    "'''\n",
    "s={'a','b','c','d','e','f','g','h','i','j','k','l','m','n','o','p','q','r','s','t','u','v','w','x','y','z'}\n",
    "s1=input()\n",
    "d={}\n",
    "for i in s1:\n",
    "    if i in s:\n",
    "        if i not in d:\n",
    "            d[i]=1\n",
    "        else:\n",
    "            d[i]+=1\n",
    "x=d.keys()\n",
    "print(d)\n",
    "if len(x)==26:\n",
    "    print(\"pangram\")\n",
    "else:\n",
    "    print(\"Not pangram\")\n",
    "'''"
   ]
  },
  {
   "cell_type": "code",
   "execution_count": 1,
   "id": "21e14c2f",
   "metadata": {},
   "outputs": [
    {
     "name": "stdout",
     "output_type": "stream",
     "text": [
      "2\n",
      "algorithms\n",
      ".\n",
      "smartinterviews\n",
      "s\n"
     ]
    }
   ],
   "source": [
    "#First Repeating Character\n",
    "t=int(input())\n",
    "for i in range(t):\n",
    "    a=\".\"\n",
    "    s=input()\n",
    "    d={}\n",
    "    for i in s:\n",
    "        if i in d:\n",
    "            d[i]+=1\n",
    "        else:\n",
    "            d[i]=1\n",
    "    for i in d:\n",
    "        if d[i]>1:\n",
    "            a=i\n",
    "            break\n",
    "\n",
    "    print(a)"
   ]
  },
  {
   "cell_type": "code",
   "execution_count": 4,
   "id": "3567e503",
   "metadata": {},
   "outputs": [
    {
     "name": "stdout",
     "output_type": "stream",
     "text": [
      "3\n",
      "a 1234\n",
      "b 5678\n",
      "c 1367\n",
      "a\n",
      "a=1234\n",
      "b\n",
      "b=5678\n",
      "d\n",
      "Not found\n",
      "\n"
     ]
    }
   ],
   "source": [
    "#Dict and Map\n",
    "n=int(input())\n",
    "d={}\n",
    "for i in range(n):\n",
    "    l=list(map(str,input().split()))\n",
    "    d[l[0]]=l[1]\n",
    "\n",
    "def find(name):\n",
    "    if d.get(name)!=None:\n",
    "        print(name+\"=\"+d[name])\n",
    "    else:\n",
    "        print(\"Not found\")\n",
    "\n",
    "name=input()\n",
    "while name:\n",
    "    find(name)\n",
    "    name=input()"
   ]
  },
  {
   "cell_type": "code",
   "execution_count": 5,
   "id": "4e490822",
   "metadata": {},
   "outputs": [
    {
     "name": "stdout",
     "output_type": "stream",
     "text": [
      "10\n",
      "animal\n",
      "lake\n",
      "lake\n",
      "lake\n",
      "zebra\n",
      "zebra\n",
      "zebra\n",
      "kite\n",
      "lakes\n",
      "animals\n",
      "zebra 3\n"
     ]
    }
   ],
   "source": [
    "#Frequent Word\n",
    "n=int(input())\n",
    "d={}\n",
    "\n",
    "for i in range(n):\n",
    "    word=input()\n",
    "    if word in d:\n",
    "        d[word]+=1\n",
    "    else:\n",
    "        d[word]=1\n",
    "\n",
    "large=max(d.values())\n",
    "same=[i for i in d if d[i]==large]\n",
    "print(f\"{max(same)} {large}\")\n",
    "    "
   ]
  },
  {
   "cell_type": "code",
   "execution_count": 6,
   "id": "9c5bd301",
   "metadata": {},
   "outputs": [
    {
     "name": "stdout",
     "output_type": "stream",
     "text": [
      "2 \n",
      "2 4\n",
      "1 6102\n",
      "2 6102\n",
      "1 6103\n",
      "2 6103\n",
      "Scenario #1: possible\n",
      "2 4\n",
      "1 6102\n",
      "1 6102\n",
      "2 6102\n",
      "2 6103\n",
      "Scenario #2: impossible\n"
     ]
    }
   ],
   "source": [
    "#Backup Data\n",
    "t=int(input())\n",
    "for a in range(t):\n",
    "    impossible=0\n",
    "    n,r=map(int,input().split())\n",
    "    d={}\n",
    "    for b in range(r):\n",
    "        i,c=map(int,input().split())\n",
    "        if c in d:\n",
    "            if i in d[c]:\n",
    "                impossible=1\n",
    "            else:\n",
    "                d[c].append(i)\n",
    "        else:\n",
    "            d[c]=[i]\n",
    "            \n",
    "    if impossible:\n",
    "        print(f\"Scenario #{a+1}: impossible\")\n",
    "    else:\n",
    "        print(f\"Scenario #{a+1}: possible\")"
   ]
  },
  {
   "cell_type": "code",
   "execution_count": 8,
   "id": "eb08b0e6",
   "metadata": {},
   "outputs": [
    {
     "name": "stdout",
     "output_type": "stream",
     "text": [
      "4\n",
      "a b\n",
      "a c\n",
      "a d\n",
      "b c\n",
      "a\n",
      "b\n"
     ]
    }
   ],
   "source": [
    "#Graph\n",
    "n=int(input())\n",
    "d={}\n",
    "for i in range(n):\n",
    "    src,dest=map(str,input().split())\n",
    "    if src in d:\n",
    "        d[src].append(dest)\n",
    "    else:\n",
    "        d[src]=[dest]\n",
    "    \n",
    "vertex=input()\n",
    "if vertex not in d:\n",
    "    print(\"None\")\n",
    "else:\n",
    "    if len(d[vertex]):\n",
    "        print(d[vertex][0])\n",
    "    else:\n",
    "        for i in range(len(d[vertex])):\n",
    "            print(d[vertex][i],end=\",\")"
   ]
  },
  {
   "cell_type": "code",
   "execution_count": 9,
   "id": "c86ff051",
   "metadata": {},
   "outputs": [
    {
     "name": "stdout",
     "output_type": "stream",
     "text": [
      "4\n",
      "a b 100\n",
      "a c 50\n",
      "a d 200\n",
      "b c 200\n",
      "a\n",
      "a->c\n"
     ]
    }
   ],
   "source": [
    "#Weighted Graph\n",
    "n=int(input())\n",
    "d={}\n",
    "for i in range(n):\n",
    "    src,dest,dist=map(str,input().split())\n",
    "    dist=int(dist)\n",
    "    if src in d:\n",
    "        d[src].append([dist,dest])\n",
    "    else:\n",
    "        d[src]=[[dist,dest]]\n",
    "\n",
    "vertex=input()\n",
    "if vertex not in d:\n",
    "    print(\"None\")\n",
    "else:\n",
    "    d[vertex].sort()\n",
    "    print(f\"{vertex}->{d[vertex][0][1]}\")"
   ]
  },
  {
   "cell_type": "code",
   "execution_count": null,
   "id": "cfcb89f3",
   "metadata": {},
   "outputs": [],
   "source": []
  }
 ],
 "metadata": {
  "kernelspec": {
   "display_name": "Python 3 (ipykernel)",
   "language": "python",
   "name": "python3"
  },
  "language_info": {
   "codemirror_mode": {
    "name": "ipython",
    "version": 3
   },
   "file_extension": ".py",
   "mimetype": "text/x-python",
   "name": "python",
   "nbconvert_exporter": "python",
   "pygments_lexer": "ipython3",
   "version": "3.11.5"
  }
 },
 "nbformat": 4,
 "nbformat_minor": 5
}
