{
 "cells": [
  {
   "cell_type": "code",
   "execution_count": 7,
   "id": "fb05bf8a",
   "metadata": {},
   "outputs": [
    {
     "name": "stdout",
     "output_type": "stream",
     "text": [
      "3\n",
      "100\n",
      "1500\n",
      "3\n",
      "45\n",
      "5\n",
      "75\n"
     ]
    }
   ],
   "source": [
    "#P1\n",
    "#Approach - 1\n",
    "'''\n",
    "t = int(input())\n",
    "for i in range(t):\n",
    "    n = int(input())\n",
    "    x = int((n*50) - ((0.7)*(n*50)))\n",
    "    print(x)\n",
    "'''\n",
    "#Approach - 2\n",
    "'''\n",
    "t = int(input())\n",
    "while t > 0:\n",
    "    n = int(input())\n",
    "    x = int((n*50) - ((0.7)*(n*50)))\n",
    "    print(x)\n",
    "    t = t - 1\n",
    "'''\n",
    "#Approach - 3\n",
    "'''\n",
    "t = int(input())\n",
    "def test(t):\n",
    "    if t > 0:\n",
    "        n = int(input())\n",
    "        x = int((n*50) - ((0.7)*(n*50)))\n",
    "        print(x)\n",
    "    else:\n",
    "        return\n",
    "    test(t-1)\n",
    "test(t)\n",
    "'''\n",
    "#Approach - 4\n",
    "\n",
    "t = int(input())\n",
    "def profit(n):\n",
    "    x = int((n*50) - ((0.7)*(n*50)))\n",
    "    return x\n",
    "def test(t):\n",
    "    if t > 0:\n",
    "        n = int(input())\n",
    "        print(profit(n))\n",
    "    else:\n",
    "        return\n",
    "    test(t-1)\n",
    "test(t)"
   ]
  },
  {
   "cell_type": "code",
   "execution_count": 4,
   "id": "834bfd8f",
   "metadata": {},
   "outputs": [
    {
     "name": "stdout",
     "output_type": "stream",
     "text": [
      "100 80\n",
      "60\n"
     ]
    }
   ],
   "source": [
    "#P2\n",
    "#Approach - 1\n",
    "'''\n",
    "x,y = map(int,input().split())\n",
    "print((x-y) + (y//2))\n",
    "'''\n",
    "#Approach - 2\n",
    "\n",
    "def movie(x,y):\n",
    "    print((x-y) + (y//2))\n",
    "a,b = map(int,input().split())\n",
    "movie(a,b)\n"
   ]
  },
  {
   "cell_type": "code",
   "execution_count": 15,
   "id": "1318d40f",
   "metadata": {},
   "outputs": [
    {
     "name": "stdout",
     "output_type": "stream",
     "text": [
      "3\n",
      "4654532\n",
      "2\n",
      "8767\n",
      "0\n",
      "4545\n",
      "2\n"
     ]
    },
    {
     "data": {
      "text/plain": [
       "'\\ndef test(n):\\n    if t == 0:\\n        return\\n    else:\\n        n = int(input())\\n        print(count(n))\\n    test(n-1)\\ndef count(n):\\n    c = 0\\n    while n > 0:\\n        r = n%10\\n        if r == 4:\\n            c = c + 1  \\n            n = n // 10\\n    return c\\nt = int(input())\\ntest(t)\\n'"
      ]
     },
     "execution_count": 15,
     "metadata": {},
     "output_type": "execute_result"
    }
   ],
   "source": [
    "#P3\n",
    "#Approach - 1\n",
    "\n",
    "t=int(input())\n",
    "for i in range(t):\n",
    "    n=int(input())\n",
    "    c=0\n",
    "    while n>0:\n",
    "        if n%10==4:\n",
    "            c=c+1\n",
    "        n=n//10\n",
    "    print(c)\n",
    "\n",
    "#Appraoch - 2\n",
    "'''\n",
    "def test(n):\n",
    "    if t == 0:\n",
    "        return\n",
    "    else:\n",
    "        n = int(input())\n",
    "        print(count(n))\n",
    "    test(n-1)\n",
    "def count(n):\n",
    "    c = 0\n",
    "    while n > 0:\n",
    "        r = n%10\n",
    "        if r == 4:\n",
    "            c = c + 1  \n",
    "            n = n // 10\n",
    "    return c\n",
    "t = int(input())\n",
    "test(t)\n",
    "'''"
   ]
  },
  {
   "cell_type": "code",
   "execution_count": null,
   "id": "f38273dc",
   "metadata": {},
   "outputs": [],
   "source": []
  },
  {
   "cell_type": "code",
   "execution_count": 12,
   "id": "a320fa7f",
   "metadata": {},
   "outputs": [
    {
     "name": "stdout",
     "output_type": "stream",
     "text": [
      "4\n",
      "24\n"
     ]
    }
   ],
   "source": [
    "#P4\n",
    "#Appraoch - 1\n",
    "'''\n",
    "n = int(input())\n",
    "r = 1\n",
    "for i in range(1,n+1):\n",
    "    r = r * i\n",
    "print(r)\n",
    "'''\n",
    "#Approach - 2\n",
    "'''\n",
    "n = int(input())\n",
    "r = 1\n",
    "while n > 0:\n",
    "    r = r * n\n",
    "    n = n - 1\n",
    "print(r)\n",
    "'''\n",
    "#Approach - 3\n",
    "\n",
    "def fact(n):\n",
    "    if n==0 or n==1:\n",
    "        return 1\n",
    "    else:\n",
    "        return n*fact(n-1)\n",
    "\n",
    "k=int(input())\n",
    "print(fact(k))\n"
   ]
  },
  {
   "cell_type": "code",
   "execution_count": null,
   "id": "24e4e714",
   "metadata": {},
   "outputs": [],
   "source": []
  },
  {
   "cell_type": "code",
   "execution_count": 3,
   "id": "68339a9d",
   "metadata": {},
   "outputs": [
    {
     "name": "stdout",
     "output_type": "stream",
     "text": [
      "4\n",
      "6\n"
     ]
    }
   ],
   "source": [
    "#P5\n",
    "\n",
    "n = int(input())\n",
    "if n%2==0:\n",
    "    print(n+2)\n",
    "else:\n",
    "    print(n+1)"
   ]
  },
  {
   "cell_type": "code",
   "execution_count": 8,
   "id": "6cdaeb07",
   "metadata": {},
   "outputs": [
    {
     "name": "stdout",
     "output_type": "stream",
     "text": [
      "123\n",
      "31233\n"
     ]
    }
   ],
   "source": [
    "#P6\n",
    "\n",
    "n=int(input())\n",
    "def temp(n):\n",
    "    r=n\n",
    "    c=0\n",
    "    while r>0:\n",
    "        c+=1\n",
    "        r=r//10\n",
    "    n=(3*pow(10,c))+n\n",
    "    n=n*10+3\n",
    "    return n\n",
    "print(temp(n))\n"
   ]
  },
  {
   "cell_type": "code",
   "execution_count": null,
   "id": "8133a1cb",
   "metadata": {},
   "outputs": [],
   "source": []
  }
 ],
 "metadata": {
  "kernelspec": {
   "display_name": "Python 3 (ipykernel)",
   "language": "python",
   "name": "python3"
  },
  "language_info": {
   "codemirror_mode": {
    "name": "ipython",
    "version": 3
   },
   "file_extension": ".py",
   "mimetype": "text/x-python",
   "name": "python",
   "nbconvert_exporter": "python",
   "pygments_lexer": "ipython3",
   "version": "3.11.5"
  }
 },
 "nbformat": 4,
 "nbformat_minor": 5
}
