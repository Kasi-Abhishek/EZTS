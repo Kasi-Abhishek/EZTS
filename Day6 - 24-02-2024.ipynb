{
 "cells": [
  {
   "cell_type": "code",
   "execution_count": 4,
   "id": "8947ac28",
   "metadata": {},
   "outputs": [
    {
     "name": "stdout",
     "output_type": "stream",
     "text": [
      "no\n",
      "yes\n"
     ]
    }
   ],
   "source": [
    "#Prime\n",
    "\n",
    "class classn:\n",
    "    def __init__(self,n):\n",
    "        self.n=n\n",
    "    def isprime(self):\n",
    "        c=0\n",
    "        for i in range(1,self.n+1):\n",
    "            if self.n%i==0:\n",
    "                c+=1\n",
    "        if c==2:\n",
    "            return \"yes\"\n",
    "        else:\n",
    "            return \"no\"\n",
    "        \n",
    "ob1=classn(20)\n",
    "ob2=classn(13)\n",
    "print(ob1.isprime())\n",
    "print(ob2.isprime())"
   ]
  },
  {
   "cell_type": "code",
   "execution_count": 7,
   "id": "98e74a10",
   "metadata": {},
   "outputs": [
    {
     "name": "stdout",
     "output_type": "stream",
     "text": [
      "no\n",
      "yes\n"
     ]
    }
   ],
   "source": [
    "#palindrome\n",
    "'''\n",
    "class check:\n",
    "    def __init__(self,n):\n",
    "        self.n=n\n",
    "    def ispalindrome(self):\n",
    "        if self.n==self.n[::-1]:\n",
    "            print(\"yes\")\n",
    "        else:\n",
    "            print(\"no\")\n",
    "            \n",
    "ob1=check(\"hello\")\n",
    "ob2=check(\"sos\")\n",
    "ob1.ispalindrome()\n",
    "ob2.ispalindrome()\n",
    "'''\n",
    "\n",
    "class check:\n",
    "    def __init__(self,n):\n",
    "        self.n=n\n",
    "    def ispalindrome(self):\n",
    "        if self.n==self.n[::-1]:\n",
    "            return \"yes\"\n",
    "        else:\n",
    "            return \"no\"\n",
    "            \n",
    "ob1=check(\"hello\")\n",
    "ob2=check(\"sos\")\n",
    "print(ob1.ispalindrome())\n",
    "print(ob2.ispalindrome())"
   ]
  },
  {
   "cell_type": "code",
   "execution_count": 2,
   "id": "2e4115fe",
   "metadata": {},
   "outputs": [
    {
     "name": "stdout",
     "output_type": "stream",
     "text": [
      "No\n",
      "No\n",
      "Yes\n",
      "Yes\n"
     ]
    }
   ],
   "source": [
    "#Prime and Palindrome\n",
    "#Approach 1\n",
    "\n",
    "'''\n",
    "class total:\n",
    "    def __init__(self,n):\n",
    "        self.n=n\n",
    "    def isprime(self):\n",
    "        c=0\n",
    "        for i in range(1,self.n+1):\n",
    "            if self.n%i==0:\n",
    "                c+=1\n",
    "        if c==2:\n",
    "            print(\"yes\")\n",
    "        else:\n",
    "            print (\"no\")\n",
    "    def ispalindrome(self):\n",
    "        s=str(self.n)\n",
    "        if s==s[::-1]:\n",
    "            print(\"yes\")\n",
    "        else:\n",
    "            print(\"no\")\n",
    "                  \n",
    "ob1=total(22)\n",
    "ob2=total(24)\n",
    "ob1.isprime()\n",
    "ob1.ispalindrome()\n",
    "ob2.isprime()\n",
    "ob2.ispalindrome()\n",
    "'''\n",
    "\n",
    "#Approach 2\n",
    "\n",
    "class total:\n",
    "    def __init__(self,n,s):\n",
    "        self.n = n\n",
    "        self.s = s\n",
    "    def isprime(self):\n",
    "        count = 0\n",
    "        for i in range(1,self.n+1):\n",
    "            if self.n%i == 0:\n",
    "                count = count + 1\n",
    "        if count == 2:\n",
    "            print(\"Yes\")\n",
    "        else:\n",
    "            print(\"No\")\n",
    "    def ispalindrome(self):\n",
    "        if self.s == self.s[::-1]:\n",
    "            print(\"Yes\")\n",
    "        else:\n",
    "            print(\"No\")\n",
    "ob1 = total(12,\"SaS\")\n",
    "ob1.isprime()\n",
    "ob2 = total(14,\"Hello\")\n",
    "ob2.ispalindrome()\n",
    "ob3 = total(13,\"SaS\")\n",
    "ob3.isprime()\n",
    "ob3.ispalindrome()"
   ]
  },
  {
   "cell_type": "code",
   "execution_count": 14,
   "id": "cb3ae1d0",
   "metadata": {},
   "outputs": [
    {
     "name": "stdout",
     "output_type": "stream",
     "text": [
      "200\n",
      "10\n"
     ]
    }
   ],
   "source": [
    "#Public access specifier\n",
    "\n",
    "class car:\n",
    "    maxspeed=0\n",
    "    name=\"\"\n",
    "    def __init__(self):\n",
    "        self.maxspeed=200\n",
    "        self.name=\"supercar\"\n",
    "    def drive(self):\n",
    "        print(self.maxspeed)\n",
    "car1=car()\n",
    "car1.drive()\n",
    "car1.maxspeed=10\n",
    "car1.drive()"
   ]
  },
  {
   "cell_type": "code",
   "execution_count": 15,
   "id": "c3fbd9e3",
   "metadata": {},
   "outputs": [
    {
     "name": "stdout",
     "output_type": "stream",
     "text": [
      "200\n",
      "200\n"
     ]
    }
   ],
   "source": [
    "#Private access specifier\n",
    "\n",
    "class car:\n",
    "    __maxspeed=0\n",
    "    __name=\"\"\n",
    "    def __init__(self):\n",
    "        self.__maxspeed=200\n",
    "        self.__name=\"supercar\"\n",
    "    def drive(self):\n",
    "        print(self.__maxspeed)\n",
    "car1=car()\n",
    "car1.drive()\n",
    "car1.__maxspeed=10\n",
    "car1.drive()"
   ]
  },
  {
   "cell_type": "code",
   "execution_count": 16,
   "id": "4286ae39",
   "metadata": {},
   "outputs": [
    {
     "name": "stdout",
     "output_type": "stream",
     "text": [
      "canine\n",
      "bunny\n",
      "canine\n",
      "rocky\n"
     ]
    }
   ],
   "source": [
    "#Class and instance variable\n",
    "\n",
    "class dog:\n",
    "    kind='canine'\n",
    "    def __init__(self,name):\n",
    "        self.name=name\n",
    "d=dog('bunny')\n",
    "e=dog('rocky')\n",
    "print(d.kind)\n",
    "print(d.name)\n",
    "print(e.kind)\n",
    "print(e.name)"
   ]
  },
  {
   "cell_type": "code",
   "execution_count": 17,
   "id": "9f83918f",
   "metadata": {},
   "outputs": [
    {
     "name": "stdout",
     "output_type": "stream",
     "text": [
      "10\n",
      "hello world\n"
     ]
    }
   ],
   "source": [
    "#Program\n",
    "\n",
    "def f1(self,x,y):\n",
    "    return min(x,y)\n",
    "class c:\n",
    "    f=f1\n",
    "    def g(self):\n",
    "        print(\"hello world\")\n",
    "c1=c()\n",
    "print(c1.f(10,20))\n",
    "c1.g()"
   ]
  },
  {
   "cell_type": "code",
   "execution_count": 1,
   "id": "3a56b9d2",
   "metadata": {},
   "outputs": [
    {
     "name": "stdout",
     "output_type": "stream",
     "text": [
      "parent method\n",
      "child method\n"
     ]
    }
   ],
   "source": [
    "#Single inheritance\n",
    "\n",
    "class parent:\n",
    "    def __init__(self):\n",
    "        print(\"parent method\")\n",
    "class child(parent):\n",
    "    def __init__(self):\n",
    "        super().__init__()\n",
    "        print(\"child method\")\n",
    "c=child()"
   ]
  },
  {
   "cell_type": "code",
   "execution_count": 9,
   "id": "9ae7821b",
   "metadata": {},
   "outputs": [
    {
     "name": "stdout",
     "output_type": "stream",
     "text": [
      "abc\n",
      "4\n",
      "24\n",
      "12\n",
      "2004\n",
      "24\n",
      "dec\n",
      "2004\n"
     ]
    }
   ],
   "source": [
    "#Single inheritance \n",
    "\n",
    "class dob:\n",
    "    def __init__(self,date,month,year):\n",
    "        self.date=date\n",
    "        self.month=month\n",
    "        self.year=year\n",
    "    def display1(self):\n",
    "        d={1:\"jan\",2:\"feb\",3:\"mar\",4:\"apr\",5:\"may\",6:\"june\",7:\"july\",8:\"aug\",9:\"sep\",10:\"oct\",11:\"nov\",12:\"dec\"}\n",
    "        print(self.date)\n",
    "        print(d[self.month])\n",
    "        print(self.year)\n",
    "class details(dob):\n",
    "    def __init__(self,name,age,date,month,year):\n",
    "        self.name=name\n",
    "        self.age=age\n",
    "        self.date=date\n",
    "        self.month=month\n",
    "        self.year=year\n",
    "        super().__init__(self.date,self.month,self.year)\n",
    "    def display(self):\n",
    "        print(self.name)\n",
    "        print(self.age)\n",
    "        print(self.date)\n",
    "        print(self.month)\n",
    "        print(self.year)\n",
    "\n",
    "\n",
    "p=details(\"abc\",4,24,12,2004)\n",
    "p.display()\n",
    "p.display1()"
   ]
  },
  {
   "cell_type": "code",
   "execution_count": 10,
   "id": "a103e0a6",
   "metadata": {},
   "outputs": [
    {
     "name": "stdout",
     "output_type": "stream",
     "text": [
      "this is function 1\n",
      "this is function 2\n",
      "this is function 3\n"
     ]
    }
   ],
   "source": [
    "#Multilevel inheritance\n",
    "\n",
    "class parent:\n",
    "    def fun1(self):\n",
    "        print(\"this is function 1\")\n",
    "class child(parent):\n",
    "    def fun2(self):\n",
    "        print(\"this is function 2\")\n",
    "class child2(child):\n",
    "    def fun3(self):\n",
    "        print(\"this is function 3\")\n",
    "        \n",
    "ob=child2()\n",
    "ob.fun1()\n",
    "ob.fun2()\n",
    "ob.fun3()\n",
    "        "
   ]
  },
  {
   "cell_type": "code",
   "execution_count": 18,
   "id": "b5235b61",
   "metadata": {},
   "outputs": [
    {
     "name": "stdout",
     "output_type": "stream",
     "text": [
      "BMW \n",
      "300cc \n",
      "petrol\n",
      "300cc \n",
      "petrol\n",
      "petrol\n"
     ]
    }
   ],
   "source": [
    "#Multilevel inheritance\n",
    "\n",
    "class Vehicle:\n",
    "    def __init__(self,fuel):\n",
    "        self.fuel=fuel\n",
    "    def display3(self):\n",
    "        print(self.fuel)\n",
    "\n",
    "class Motor(Vehicle):\n",
    "    def __init__(self,cc,fuel):\n",
    "        self.cc=cc\n",
    "        self.fuel=fuel\n",
    "        super().__init__(self.fuel)\n",
    "    def display2(self):\n",
    "        print(f\"{self.cc} \\n{self.fuel}\")\n",
    "\n",
    "class Car(Motor):\n",
    "    def __init__(self,name,cc,fuel):\n",
    "        self.name=name\n",
    "        self.cc=cc\n",
    "        self.fuel=fuel\n",
    "        super().__init__(self.cc,self.fuel)\n",
    "    def display1(self):\n",
    "        print(f\"{self.name} \\n{self.cc} \\n{self.fuel}\")\n",
    "        \n",
    "car=Car(\"BMW\",\"300cc\",\"petrol\")\n",
    "car.display1()\n",
    "car.display2()\n",
    "car.display3()"
   ]
  },
  {
   "cell_type": "code",
   "execution_count": 19,
   "id": "8356438c",
   "metadata": {},
   "outputs": [
    {
     "name": "stdout",
     "output_type": "stream",
     "text": [
      "this is function 1\n",
      "this is function 2\n",
      "this is function 3\n"
     ]
    }
   ],
   "source": [
    "#Multiple inheritence\n",
    "\n",
    "class parent:\n",
    "    def fun1(self):\n",
    "        print(\"this is function 1\")\n",
    "class parent2:\n",
    "    def fun2(self):\n",
    "        print(\"this is function 2\")\n",
    "class child(parent,parent2):\n",
    "    def fun3(self):\n",
    "        print(\"this is function 3\")\n",
    "        \n",
    "ob=child2()\n",
    "ob.fun1()\n",
    "ob.fun2()\n",
    "ob.fun3()"
   ]
  },
  {
   "cell_type": "code",
   "execution_count": 23,
   "id": "a023d0c6",
   "metadata": {},
   "outputs": [
    {
     "name": "stdout",
     "output_type": "stream",
     "text": [
      "this is function 1\n",
      "this is function 2\n",
      "this is function 3\n"
     ]
    }
   ],
   "source": [
    "#Hierarchial inheritance\n",
    "\n",
    "class parent:\n",
    "    def fun1(self):\n",
    "        print(\"this is function 1\")\n",
    "class child(parent):\n",
    "    def fun2(self):\n",
    "        print(\"this is function 2\")\n",
    "class child(parent):\n",
    "    def fun3(self):\n",
    "        print(\"this is function 3\")\n",
    "        \n",
    "ob=child2()\n",
    "ob.fun1()\n",
    "ob.fun2()\n",
    "ob.fun3()"
   ]
  },
  {
   "cell_type": "code",
   "execution_count": 22,
   "id": "504cd7d4",
   "metadata": {},
   "outputs": [
    {
     "name": "stdout",
     "output_type": "stream",
     "text": [
      "200\n",
      "100\n"
     ]
    }
   ],
   "source": [
    "#data abstraction\n",
    "#Approach 1\n",
    "\n",
    "'''\n",
    "class shape:\n",
    "    def area(self):\n",
    "        pass\n",
    "class rectangle(shape):\n",
    "    def __init__(self,length,breadth):\n",
    "        self.length=length\n",
    "        self.breadth=breadth\n",
    "    def area(self):\n",
    "        print(self.length*self.breadth)\n",
    "class square(shape):\n",
    "    def __init__(self,side):\n",
    "        self.side=side\n",
    "    def area(self):\n",
    "        print(self.side*self.side)\n",
    "        \n",
    "a=rectangle(10,20)\n",
    "a.area()\n",
    "b=square(10)\n",
    "b.area()\n",
    "'''\n",
    "#Approach 2 using abstractmethod\n",
    "\n",
    "import abc\n",
    "class shape(abc.ABC):\n",
    "    @abc.abstractmethod\n",
    "    def area(self):\n",
    "        pass\n",
    "class rectangle(shape):\n",
    "    def __init__(self,length,breadth):\n",
    "        self.length=length\n",
    "        self.breadth=breadth\n",
    "    def area(self):\n",
    "        print(self.length*self.breadth)\n",
    "class square(shape):\n",
    "    def __init__(self,side):\n",
    "        self.side=side\n",
    "    def area(self):\n",
    "        print(self.side*self.side)\n",
    "        \n",
    "a=rectangle(10,20)\n",
    "a.area()\n",
    "b=square(10)\n",
    "b.area()    "
   ]
  },
  {
   "cell_type": "code",
   "execution_count": 27,
   "id": "6f9830d3",
   "metadata": {},
   "outputs": [
    {
     "name": "stdout",
     "output_type": "stream",
     "text": [
      "10\n",
      "5\n",
      "hai\n"
     ]
    }
   ],
   "source": [
    "#Exception Handling\n",
    "\n",
    "try:\n",
    "    a=int(input())\n",
    "    c=a//2\n",
    "except ZeroDivisionError:\n",
    "    print(\"error occured\")\n",
    "except:\n",
    "    print(\"Error\")\n",
    "else:\n",
    "    print(c)\n",
    "finally:\n",
    "    print(\"hai\")"
   ]
  }
 ],
 "metadata": {
  "kernelspec": {
   "display_name": "Python 3 (ipykernel)",
   "language": "python",
   "name": "python3"
  },
  "language_info": {
   "codemirror_mode": {
    "name": "ipython",
    "version": 3
   },
   "file_extension": ".py",
   "mimetype": "text/x-python",
   "name": "python",
   "nbconvert_exporter": "python",
   "pygments_lexer": "ipython3",
   "version": "3.11.5"
  }
 },
 "nbformat": 4,
 "nbformat_minor": 5
}
