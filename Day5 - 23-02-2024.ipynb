{
 "cells": [
  {
   "cell_type": "code",
   "execution_count": 2,
   "id": "ea50f6f7",
   "metadata": {},
   "outputs": [
    {
     "name": "stdout",
     "output_type": "stream",
     "text": [
      "afdg5tg\n",
      "fgtad5g\n"
     ]
    }
   ],
   "source": [
    "#Print odd and even index\n",
    "#Approach 1\n",
    "\n",
    "'''\n",
    "s=input()\n",
    "n=len(s)\n",
    "es=\"\"\n",
    "os=\"\"\n",
    "for i in range(n):\n",
    "    if i%2==0:\n",
    "        es=es+s[i]\n",
    "    else:\n",
    "        os=os+s[i]\n",
    "print(os+es)\n",
    "'''\n",
    "\n",
    "#Approach 2\n",
    "\n",
    "s=input()\n",
    "n=len(s)\n",
    "os=s[1::2]\n",
    "es=s[::2]\n",
    "print(os+es)"
   ]
  },
  {
   "cell_type": "code",
   "execution_count": 3,
   "id": "894d3dac",
   "metadata": {},
   "outputs": [
    {
     "name": "stdout",
     "output_type": "stream",
     "text": [
      "hello\n",
      "l\n",
      "2\n"
     ]
    }
   ],
   "source": [
    "#Occurence of a character\n",
    "\n",
    "s=input()\n",
    "ch=input()\n",
    "c=0\n",
    "for i in s:\n",
    "    if i==ch:\n",
    "        c=c+1\n",
    "print(c)\n",
    "        "
   ]
  },
  {
   "cell_type": "code",
   "execution_count": 15,
   "id": "5eaf7420",
   "metadata": {},
   "outputs": [
    {
     "name": "stdout",
     "output_type": "stream",
     "text": [
      "AEioU\n",
      "yes\n"
     ]
    }
   ],
   "source": [
    "#Vowels in a string\n",
    "#Approach 1\n",
    "\n",
    "'''\n",
    "vowels=['a','e','i','o','u','A','E','I','O','U']\n",
    "s=input()\n",
    "c=0\n",
    "for i in s:\n",
    "    if i in vowels:\n",
    "        c+=1\n",
    "    else:\n",
    "        break\n",
    "if c==len(s):\n",
    "    print(\"yes\")\n",
    "else:\n",
    "    print(\"no\")\n",
    "    \n",
    "'''\n",
    "\n",
    "#Approach 2\n",
    "'''\n",
    "vowels=['a','e','i','o','u','A','E','I','O','U']\n",
    "s=input()\n",
    "c=0\n",
    "for i in s:\n",
    "    if i not in vowels:\n",
    "        c+=1\n",
    "        break\n",
    "    else:\n",
    "        continue\n",
    "if c==1:\n",
    "    print(\"no\")\n",
    "else:\n",
    "    print(\"yes\")\n",
    "'''\n",
    "\n",
    "#Approach 3\n",
    "\n",
    "s=input()\n",
    "vowels=\"aeiouAEIOU\"\n",
    "for i in s:\n",
    "    if i not in vowels:\n",
    "        print(\"no\")\n",
    "        break\n",
    "else:\n",
    "    print(\"yes\")"
   ]
  },
  {
   "cell_type": "code",
   "execution_count": 26,
   "id": "d19a3e83",
   "metadata": {},
   "outputs": [
    {
     "name": "stdout",
     "output_type": "stream",
     "text": [
      "123\n",
      "yes\n"
     ]
    }
   ],
   "source": [
    "#Digits in a string\n",
    "#Approach 1\n",
    "\n",
    "'''\n",
    "s=input()\n",
    "digits=\"123456789\"\n",
    "c=0\n",
    "for i in s:\n",
    "    if i in digits:\n",
    "        c+=1\n",
    "    else:\n",
    "        break\n",
    "if c==len(s):\n",
    "    print(\"yes\")\n",
    "else:\n",
    "    print(\"no\")\n",
    "'''\n",
    "\n",
    "#Approach 2\n",
    "\n",
    "'''\n",
    "s=input()\n",
    "digits=\"123456789\"\n",
    "c=0\n",
    "for i in s:\n",
    "    if i not in digits:\n",
    "        c+=1\n",
    "        break\n",
    "    else:\n",
    "        continue\n",
    "if c==1:\n",
    "    print(\"no\")\n",
    "else:\n",
    "    print(\"yes\")\n",
    "'''\n",
    "\n",
    "#Approach 3\n",
    "\n",
    "'''\n",
    "s=input()\n",
    "d=\"123456789\"\n",
    "for i in s:\n",
    "    if i not in d:\n",
    "        print(\"no\")\n",
    "        break\n",
    "else:\n",
    "    print(\"yes\")\n",
    "'''\n",
    "\n",
    "#Approach 4\n",
    "'''\n",
    "s=input()\n",
    "digits=\"123456789\"\n",
    "c=0\n",
    "for i in s:\n",
    "    if not i.isdigit():\n",
    "        c+=1\n",
    "        break\n",
    "if c==1:\n",
    "    print(\"no\")\n",
    "else:\n",
    "    print(\"yes\")\n",
    "'''\n",
    "\n",
    "#Approach 5\n",
    "s=input()\n",
    "if s.isdigit():\n",
    "    print(\"yes\")\n",
    "else:\n",
    "    print(\"no\")"
   ]
  },
  {
   "cell_type": "code",
   "execution_count": 34,
   "id": "0d1ae630",
   "metadata": {},
   "outputs": [
    {
     "name": "stdout",
     "output_type": "stream",
     "text": [
      "aeidfg\n",
      "3 3\n"
     ]
    }
   ],
   "source": [
    "#Count vowels and Consonants\n",
    "#Approach 1\n",
    "'''\n",
    "s=input()\n",
    "vowels=\"aeiouAEIOU\"\n",
    "v,c=0,0\n",
    "for i in s:\n",
    "    if i in vowels:\n",
    "        v+=1\n",
    "    elif i.isalpha():\n",
    "        c+=1\n",
    "    else:\n",
    "        continue\n",
    "print(f\"{v} {c}\")\n",
    "'''\n",
    "\n",
    "#Approach 2\n",
    "\n",
    "s=input()\n",
    "v=\"aeiouAEOIU\"\n",
    "vc=0\n",
    "cc=0\n",
    "for i in s:\n",
    "    if i.isalpha():\n",
    "        if i in v:\n",
    "            vc+=1\n",
    "        else:\n",
    "            cc+=1\n",
    "print(vc,cc)\n"
   ]
  },
  {
   "cell_type": "code",
   "execution_count": 10,
   "id": "cecd270b",
   "metadata": {},
   "outputs": [
    {
     "name": "stdout",
     "output_type": "stream",
     "text": [
      "abbhhhhhhhhiiiiiiiii\n",
      "a1b2h8i9\n"
     ]
    }
   ],
   "source": [
    "#Compress a string\n",
    "#Approach 1\n",
    "\n",
    "s=input()\n",
    "c=1\n",
    "r=\"\"\n",
    "for i in range(1,len(s)):\n",
    "    if s[i]==s[i-1]:\n",
    "        c=c+1\n",
    "    else:\n",
    "        r=r+s[i-1]\n",
    "        r=r+str(c)\n",
    "        c=1\n",
    "r=r+s[len(s)-1]+str(c)\n",
    "print(r)"
   ]
  },
  {
   "cell_type": "code",
   "execution_count": 12,
   "id": "bcffdb30",
   "metadata": {},
   "outputs": [
    {
     "name": "stdout",
     "output_type": "stream",
     "text": [
      "2\n",
      "askdjb23\n",
      "1 1 5\n",
      "hu@#$%\n",
      "1 1 1\n"
     ]
    }
   ],
   "source": [
    "#Words,vowels and consonants\n",
    "t=int(input())\n",
    "for i in range(t):   \n",
    "    s=input()\n",
    "    l=list(s.split())\n",
    "    vowels=\"aeiouAEIOU\"\n",
    "    v,c=0,0\n",
    "    for i in s:\n",
    "        if i in vowels:\n",
    "            v+=1\n",
    "        elif i.isalpha():\n",
    "            c+=1\n",
    "        else:\n",
    "            continue\n",
    "    print(f\"{len(l)} {v} {c}\")"
   ]
  },
  {
   "cell_type": "code",
   "execution_count": 17,
   "id": "a594d355",
   "metadata": {},
   "outputs": [
    {
     "name": "stdout",
     "output_type": "stream",
     "text": [
      "2\n",
      "data structures\n",
      "srucures\n",
      "smart interviews\n",
      "ineview\n"
     ]
    }
   ],
   "source": [
    "#Guess the problem\n",
    "\n",
    "t=int(input())\n",
    "for i in range(t):\n",
    "    a,b=input().split()\n",
    "    for i in a:\n",
    "        b=b.replace(i,\"\")\n",
    "    print(b)"
   ]
  },
  {
   "cell_type": "code",
   "execution_count": 30,
   "id": "ee0e130b",
   "metadata": {},
   "outputs": [
    {
     "name": "stdout",
     "output_type": "stream",
     "text": [
      "2\n",
      "smart 3\n",
      "vpduw\n",
      "interviews 10\n",
      "sxdobfsogc\n"
     ]
    }
   ],
   "source": [
    "#Guess the problem\n",
    "\n",
    "t=int(input())\n",
    "for i in range(t):\n",
    "    a,b=input().split()\n",
    "    b=int(b)\n",
    "    r=\"\"\n",
    "    for i in a:\n",
    "        k=ord(i)+b\n",
    "        if k>122:\n",
    "            k=96+(k-122)\n",
    "            r=r+chr(k)\n",
    "        else:\n",
    "            r=r+chr(k)\n",
    "    print(r)\n",
    "            "
   ]
  },
  {
   "cell_type": "code",
   "execution_count": 35,
   "id": "eab6b5b9",
   "metadata": {},
   "outputs": [
    {
     "name": "stdout",
     "output_type": "stream",
     "text": [
      "120\n"
     ]
    }
   ],
   "source": [
    "#OOPS\n",
    "#Approach 1\n",
    "\n",
    "'''\n",
    "class classa:\n",
    "    def factorial(self,n):\n",
    "        r=1\n",
    "        for i in range(1,n+1):\n",
    "            r=r*i\n",
    "        print(r)\n",
    "ob=classa()\n",
    "ob.factorial(5)\n",
    "'''\n",
    "\n",
    "#Approach 2\n",
    "'''\n",
    "class classa:\n",
    "    def __init__(self,n):\n",
    "        self.n=n\n",
    "        print(n)\n",
    "    def factorial(self):\n",
    "        r=1\n",
    "        for i in range(1,self.n+1):\n",
    "            r=r*i\n",
    "        print(r)\n",
    "ob=classa(5)\n",
    "ob.factorial()\n",
    "'''\n",
    "\n",
    "#Approach 3\n",
    "\n",
    "class classa:\n",
    "    def factorial(self,n):\n",
    "        if n==1:\n",
    "            return 1\n",
    "        else:\n",
    "            return n*(self.factorial(n-1))\n",
    "ob=classa()\n",
    "print(ob.factorial(5))\n"
   ]
  },
  {
   "cell_type": "code",
   "execution_count": null,
   "id": "fbcf6c71",
   "metadata": {},
   "outputs": [],
   "source": []
  }
 ],
 "metadata": {
  "kernelspec": {
   "display_name": "Python 3 (ipykernel)",
   "language": "python",
   "name": "python3"
  },
  "language_info": {
   "codemirror_mode": {
    "name": "ipython",
    "version": 3
   },
   "file_extension": ".py",
   "mimetype": "text/x-python",
   "name": "python",
   "nbconvert_exporter": "python",
   "pygments_lexer": "ipython3",
   "version": "3.11.5"
  }
 },
 "nbformat": 4,
 "nbformat_minor": 5
}
