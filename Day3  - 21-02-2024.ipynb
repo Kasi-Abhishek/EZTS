{
 "cells": [
  {
   "cell_type": "code",
   "execution_count": 9,
   "id": "e5688c7c",
   "metadata": {},
   "outputs": [
    {
     "name": "stdout",
     "output_type": "stream",
     "text": [
      "4\n",
      "2 3 2 3\n",
      "2\n"
     ]
    }
   ],
   "source": [
    "#find duplicate element \n",
    "#approach 1\n",
    "'''\n",
    "n=int(input())\n",
    "a=list(map(int,input().split()))[:n]\n",
    "for i in range(n):\n",
    "    if a[i] in a[i+1:]:\n",
    "        print(a[i])\n",
    "        break\n",
    "'''\n",
    "#Approach 2\n",
    "'''\n",
    "n=int(input())\n",
    "a=list(map(int,input().split()))[:n]\n",
    "a.sort()\n",
    "for in range(0,n-1):\n",
    "    if a[i]==a[i+1:]:\n",
    "        print(a[i])\n",
    "        break\n",
    "'''\n",
    "\n",
    "#Approach 3\n",
    "        \n",
    "n=int(input())\n",
    "a=list(map(int,input().split()))[:n]\n",
    "for i in a:\n",
    "    c=a.count(i)\n",
    "    if(c>1):\n",
    "        print(i)\n",
    "        break"
   ]
  },
  {
   "cell_type": "code",
   "execution_count": 15,
   "id": "c94a2f12",
   "metadata": {},
   "outputs": [
    {
     "name": "stdout",
     "output_type": "stream",
     "text": [
      "4\n",
      "1 2 1 3\n",
      "2 3 "
     ]
    }
   ],
   "source": [
    "#find unique elements\n",
    "#Approach 1\n",
    "\n",
    "'''\n",
    "n=int(input())\n",
    "a=list(map(int,input().split()))[:n]\n",
    "unique=[]\n",
    "for i in range(n):\n",
    "    if a.count(a[i])==1:\n",
    "        if a[i] in unique:\n",
    "            continue\n",
    "        else:\n",
    "            unique.append(a[i])\n",
    "for i in unique:\n",
    "    print(i,end=\" \")\n",
    "'''   \n",
    "\n",
    "#Approach 2\n",
    "\n",
    "n=int(input())\n",
    "a=list(map(int,input().split()))[:n]\n",
    "for i in a:\n",
    "    if a.count(i)==1:\n",
    "        print(i,end=\" \")\n",
    "    "
   ]
  },
  {
   "cell_type": "code",
   "execution_count": 3,
   "id": "5f109c8e",
   "metadata": {},
   "outputs": [
    {
     "name": "stdout",
     "output_type": "stream",
     "text": [
      "1\n",
      "14\n",
      "1\n"
     ]
    }
   ],
   "source": [
    "\n",
    "#Cooking compitition\n",
    "#Approach 1\n",
    "'''\n",
    "t=int(input())\n",
    "for i in range(t):\n",
    "    n=int(input())\n",
    "    even,odd=0,0\n",
    "    for i in range(1,n+1):\n",
    "        if n%i==0:\n",
    "            if i%2==0:\n",
    "                even+=1\n",
    "            else:\n",
    "                odd+=1\n",
    "    if even==odd:\n",
    "        print(1)\n",
    "    else:\n",
    "        print(0)\n",
    "'''\n",
    "\n",
    "#Approach 2\n",
    "\n",
    "t=int(input())\n",
    "for i in range(t):\n",
    "    n=int(input())\n",
    "    factors=[]\n",
    "    for j in range(1,n+1):\n",
    "        if n%j==0:\n",
    "            factors.append(j)\n",
    "    ef=[]\n",
    "    of=[]\n",
    "    for j in factors:\n",
    "        if j%2==0:\n",
    "            ef.append(j)\n",
    "        else:\n",
    "            of.append(j)\n",
    "    if len(ef)==len(of):\n",
    "        print(1)\n",
    "    else:\n",
    "        print(0)"
   ]
  },
  {
   "cell_type": "code",
   "execution_count": 6,
   "id": "35ec7651",
   "metadata": {},
   "outputs": [
    {
     "name": "stdout",
     "output_type": "stream",
     "text": [
      "1\n",
      "4 20\n",
      "18 20 21 9\n",
      "100 200 150 600\n",
      "350\n"
     ]
    }
   ],
   "source": [
    "#cost of groceries\n",
    "'''\n",
    "t=int(input())\n",
    "for i in range(t):\n",
    "    n,x=map(int,input().split())\n",
    "    a=list(map(int,input().split()))\n",
    "    b=list(map(int,input().split()))\n",
    "    cost=0\n",
    "    for i in range(n):\n",
    "        if a[i]>=x:\n",
    "            cost=cost+b[i]\n",
    "    print(cost)  \n",
    "'''\n",
    "\n",
    "t=int(input())\n",
    "while t>0:\n",
    "    n,x=map(int,input().split())\n",
    "    a=list(map(int,input().split()))\n",
    "    b=list(map(int,input().split()))\n",
    "    cost=0\n",
    "    for i in range(n):\n",
    "        if a[i]>=x:\n",
    "            cost=cost+b[i]\n",
    "    print(cost) \n",
    "    t-=1\n",
    "            "
   ]
  },
  {
   "cell_type": "code",
   "execution_count": 9,
   "id": "c9b93bc4",
   "metadata": {},
   "outputs": [
    {
     "name": "stdout",
     "output_type": "stream",
     "text": [
      "2\n",
      "Not Prime\n"
     ]
    }
   ],
   "source": [
    "#Prime Number\n",
    "\n",
    "n=int(input())\n",
    "factor=[]\n",
    "if n==1:\n",
    "    print(\"Neither prime nor composite\")\n",
    "else:\n",
    "    for i in range(1,n+1):\n",
    "        if n%i==0:\n",
    "            factors.append(i)\n",
    "    if len(factors)>2:\n",
    "        print(\"Not Prime\")\n",
    "    else:\n",
    "        print(\"Prime\")"
   ]
  },
  {
   "cell_type": "code",
   "execution_count": 12,
   "id": "362f86cc",
   "metadata": {},
   "outputs": [
    {
     "name": "stdout",
     "output_type": "stream",
     "text": [
      "1\n",
      "3\n",
      "100 200 300\n",
      "300 200 100\n",
      "1\n"
     ]
    }
   ],
   "source": [
    "#Running Compare\n",
    "\n",
    "t=int(input())\n",
    "for i in range(t):\n",
    "    n=int(input())\n",
    "    a=list(map(int,input().split()))\n",
    "    b=list(map(int,input().split()))\n",
    "    happy=0\n",
    "    for i in range(n):\n",
    "        if a[i]<=2*b[i] and b[i]<=2*a[i]:\n",
    "            happy+=1\n",
    "    print(happy)"
   ]
  },
  {
   "cell_type": "code",
   "execution_count": 18,
   "id": "1c598a50",
   "metadata": {},
   "outputs": [
    {
     "name": "stdout",
     "output_type": "stream",
     "text": [
      "30\n",
      "6\n",
      "28\n"
     ]
    }
   ],
   "source": [
    "#Even Perfect Number\n",
    "'''\n",
    "n=int(input())\n",
    "for i in range(1,n+1):\n",
    "    factors=[]\n",
    "    if i%2==0:\n",
    "        for j in range(1,i):\n",
    "            if i%j==0:\n",
    "                factors.append(j)\n",
    "        if sum(factors)==i:\n",
    "            print(i)\n",
    "'''\n",
    "\n",
    "#Aooroach 2\n",
    "\n",
    "n=int(input())\n",
    "f=0\n",
    "for i in range(2,n+1,2):\n",
    "    for j in range(1,i):\n",
    "        if i%j==0:\n",
    "            f+=j\n",
    "    if f==i:\n",
    "        print(i)\n",
    "    f=0"
   ]
  },
  {
   "cell_type": "code",
   "execution_count": null,
   "id": "16bd78df",
   "metadata": {},
   "outputs": [],
   "source": []
  }
 ],
 "metadata": {
  "kernelspec": {
   "display_name": "Python 3 (ipykernel)",
   "language": "python",
   "name": "python3"
  },
  "language_info": {
   "codemirror_mode": {
    "name": "ipython",
    "version": 3
   },
   "file_extension": ".py",
   "mimetype": "text/x-python",
   "name": "python",
   "nbconvert_exporter": "python",
   "pygments_lexer": "ipython3",
   "version": "3.11.5"
  }
 },
 "nbformat": 4,
 "nbformat_minor": 5
}
